{
 "cells": [
  {
   "cell_type": "code",
   "execution_count": 1,
   "metadata": {},
   "outputs": [],
   "source": [
    "import os.path as osp\n",
    "\n",
    "import torch\n",
    "import torch.nn.functional as F\n",
    "import matplotlib.pyplot as plt\n",
    "from torch_geometric.datasets import Planetoid\n",
    "import torch_geometric.transforms as T\n",
    "#from torch_geometric.nn import GCNConv\n",
    "from torch_geometric.nn import GCNConv, GNNExplainer\n"
   ]
  },
  {
   "cell_type": "code",
   "execution_count": 2,
   "metadata": {},
   "outputs": [
    {
     "ename": "NameError",
     "evalue": "name 'model' is not defined",
     "output_type": "error",
     "traceback": [
      "\u001b[1;31m---------------------------------------------------------------------------\u001b[0m",
      "\u001b[1;31mNameError\u001b[0m                                 Traceback (most recent call last)",
      "\u001b[1;32m<ipython-input-2-c61107928095>\u001b[0m in \u001b[0;36m<module>\u001b[1;34m\u001b[0m\n\u001b[1;32m----> 1\u001b[1;33m \u001b[0ma\u001b[0m \u001b[1;33m=\u001b[0m \u001b[0mGNNExplainer\u001b[0m\u001b[1;33m(\u001b[0m\u001b[0mmodel\u001b[0m\u001b[1;33m)\u001b[0m\u001b[1;33m\u001b[0m\u001b[1;33m\u001b[0m\u001b[0m\n\u001b[0m",
      "\u001b[1;31mNameError\u001b[0m: name 'model' is not defined"
     ]
    }
   ],
   "source": [
    "a = GNNExplainer(model)"
   ]
  },
  {
   "cell_type": "code",
   "execution_count": null,
   "metadata": {},
   "outputs": [],
   "source": [
    "torch.manual_seed = 1\n",
    "best_epoch_num = 0\n",
    "best_loss_valid = 1e10\n",
    "earlystopping = True\n",
    "patient = 5\n",
    "PATH = './models/gcn_net_trained_13_16batched_MSELoss.pt.final'\n",
    "\n",
    "\n",
    "batch_size = 16\n",
    "max_epochs = 50\n",
    "DATA_PATH = \"../NLLZ_7_PROD_1_frames/\"\n",
    "\n",
    "\n",
    "dataset_size = len(My_dataset())\n",
    "perm = torch.randperm(dataset_size).numpy()\n",
    "partition = {}\n",
    "partition[\"train\"] = perm[:int(dataset_size*8/10)]\n",
    "partition[\"validation\"] = perm[int(dataset_size*8/10):int(dataset_size*9/10)]\n",
    "partition[\"test\"] = perm[int(dataset_size*9/10):]\n"
   ]
  }
 ],
 "metadata": {
  "kernelspec": {
   "display_name": "Python 3",
   "language": "python",
   "name": "python3"
  },
  "language_info": {
   "codemirror_mode": {
    "name": "ipython",
    "version": 3
   },
   "file_extension": ".py",
   "mimetype": "text/x-python",
   "name": "python",
   "nbconvert_exporter": "python",
   "pygments_lexer": "ipython3",
   "version": "3.9.4"
  }
 },
 "nbformat": 4,
 "nbformat_minor": 4
}
