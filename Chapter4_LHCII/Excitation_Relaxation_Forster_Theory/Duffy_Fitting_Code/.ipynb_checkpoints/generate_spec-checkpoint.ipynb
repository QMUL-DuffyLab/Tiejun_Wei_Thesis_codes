{
 "cells": [
  {
   "cell_type": "code",
   "execution_count": 1,
   "metadata": {},
   "outputs": [],
   "source": [
    "#This file is to generate At,Ft,Aw,Fw as npy files for CAR_2MOD and RENGER"
   ]
  },
  {
   "cell_type": "code",
   "execution_count": 2,
   "metadata": {},
   "outputs": [],
   "source": [
    "import Spectrum_mol as Spec\n",
    "import numpy as np\n",
    "import matplotlib.pyplot as plt"
   ]
  },
  {
   "cell_type": "code",
   "execution_count": 3,
   "metadata": {},
   "outputs": [],
   "source": [
    "def generate_CAR2MOD():\n",
    "    N=6.4\n",
    "    w0=0\n",
    "    T=300.0\n",
    "    pigment='CAR_2MODE'\n",
    "    vargs=(450.0, 53.0, 900.0, 106.0, 1522.0, 900.0, 106.0, 1156.0) #For lutein\n",
    "    osc=1.0\n",
    "    dt=0.001\n",
    "    timesteps=np.arange(0.0, 1.0, dt) #This is a total time range of 10 ps in steps of 1 fs. This is currently hard-coded and will need fixing\n",
    "    \n",
    "    ##################################################################################\n",
    "    #generate Ft,At response function here\n",
    "    Ft_response=[] #the response function (spectrum in the time domain)\n",
    "    At_response=[]\n",
    "    for t in timesteps:\n",
    "        Ft_response.append(Spec.Ft(t,w0,T,pigment,vargs))\n",
    "        At_response.append(Spec.At(t,w0,T,pigment,vargs))\n",
    "    \n",
    "    Ft_response = np.array(Ft_response)\n",
    "    At_response = np.array(At_response)\n",
    "    ##################################################################################\n",
    "    \n",
    "    np.save(\"./CAR2_Ft(0, 1.0, 0.001).npy\", np.array(Ft_response))\n",
    "    np.save(\"./CAR2_At(0, 1.0, 0.001).npy\", np.array(At_response))\n",
    "    \n",
    "    Fw_response = Spec.fft2w(Ft_response,dt)    #note Fw/Aw is 2-d array, Fw[0] is the frequency, Fw[1] is the intensity (real part)\n",
    "    Aw_response = Spec.fft2w(At_response,dt)\n",
    "    np.save(\"./CAR2_Fw(0, 1.0, 0.001).npy\", np.array(Fw_response))\n",
    "    np.save(\"./CAR2_Aw(0, 1.0, 0.001).npy\", np.array(Aw_response))\n",
    "    print(\"CAR2 spec generated\")\n",
    "    return"
   ]
  },
  {
   "cell_type": "code",
   "execution_count": 4,
   "metadata": {},
   "outputs": [],
   "source": [
    "def generate_RENGER():\n",
    "    N=6.4\n",
    "    w0=0\n",
    "    T=300.0\n",
    "    pigment='CHL_RENGER'\n",
    "    vargs=(450.0, 53.0, 900.0, 106.0, 1536.0, 900.0, 106.0, 1150.0)\n",
    "    #vargs is hard-coded in renger, no need to change\n",
    "    osc=1.0\n",
    "    dt=0.001\n",
    "    timesteps=np.arange(0.0, 1.0, dt) #This is a total time range of 1 ps in steps of 1 fs. This is currently hard-coded and will need fixing\n",
    "    \n",
    "    ##################################################################################\n",
    "    #generate Ft,At response function here\n",
    "    Ft_response=[] #the response function (spectrum in the time domain)\n",
    "    At_response=[]\n",
    "    for t in timesteps:\n",
    "        Ft_response.append(Spec.Ft(t,w0,T,pigment,vargs))\n",
    "        At_response.append(Spec.At(t,w0,T,pigment,vargs))\n",
    "    \n",
    "    Ft_response = np.array(Ft_response)\n",
    "    At_response = np.array(At_response)\n",
    "    ##################################################################################\n",
    "    \n",
    "    np.save(\"./RENGER_Ft(0, 1.0, 0.001).npy\", np.array(Ft_response))\n",
    "    np.save(\"./RENGER_At(0, 1.0, 0.001).npy\", np.array(At_response))\n",
    "    \n",
    "    Fw_response = Spec.fft2w(Ft_response,dt)    #note Fw/Aw is 2-d array, Fw[0] is the frequency, Fw[1] is the intensity (real part)\n",
    "    Aw_response = Spec.fft2w(At_response,dt)\n",
    "    np.save(\"./RENGER_Fw(0, 1.0, 0.001).npy\", np.array(Fw_response))\n",
    "    np.save(\"./RENGER_Aw(0, 1.0, 0.001).npy\", np.array(Aw_response))\n",
    "    print(\"RENGER spec generated\")\n",
    "    return"
   ]
  },
  {
   "cell_type": "code",
   "execution_count": 5,
   "metadata": {},
   "outputs": [],
   "source": [
    "def normalize_spec(xaxis, yaxis):\n",
    "    \"\"\"\n",
    "    This function takes in spec and return the normalized spec\n",
    "    numerically calculate the AUC and then normalize\n",
    "    WARNING:\n",
    "    FIX THE UNIT BEFORE NORMALIZATION!!!\n",
    "    \n",
    "    input:\n",
    "    x-axis (in what unit??)\n",
    "    y-axis (absorption, dimensionless)\n",
    "    \n",
    "    output:\n",
    "    x-axis (same as input unit)\n",
    "    y-axis (absorption)\n",
    "    \n",
    "    \"\"\"\n",
    "    #Calculate the total AUC\n",
    "    AUC = 0\n",
    "    for index in range(1, len(xaxis)):\n",
    "        AUC += yaxis[index] * (xaxis[index]-xaxis[index-1])\n",
    "    \n",
    "    print(\"AUC is %s\" %AUC)\n",
    "    \n",
    "    #Calculate the normalization factor, use this to multiply the Absorption to get normalized spec\n",
    "    norm_factor = 1/AUC\n",
    "    \n",
    "    #Reassign the value in yaxis\n",
    "    new_yaxis = []\n",
    "    for index in range(0, len(xaxis)):\n",
    "        new_yaxis.append(yaxis[index]*norm_factor)\n",
    "    print(np.array(new_yaxis).shape)\n",
    "    print(xaxis.shape)\n",
    "    return (xaxis, np.array(new_yaxis))\n",
    "    "
   ]
  },
  {
   "cell_type": "code",
   "execution_count": 6,
   "metadata": {
    "scrolled": true
   },
   "outputs": [
    {
     "name": "stderr",
     "output_type": "stream",
     "text": [
      "C:\\Users\\Tiejun\\Documents\\GitHub\\Excitation_Relaxation_Forster_Theory\\Duffy_Fitting_Code\\lineshapes.py:46: IntegrationWarning: The maximum number of subdivisions (100) has been achieved.\n",
      "  If increasing the limit yields no improvement it is advised to analyze \n",
      "  the integrand in order to determine the difficulties.  If the position of a \n",
      "  local difficulty can be determined (singularity, discontinuity) one will \n",
      "  probably gain from splitting up the interval and calling the integrator \n",
      "  on the subranges.  Perhaps a special-purpose integrator should be used.\n",
      "  g2, g2err=quad(gReInt,1.0E-5,np.inf,args=(t,T,pigment,vargs), limit = 100)\n",
      "C:\\Users\\Tiejun\\Documents\\GitHub\\Excitation_Relaxation_Forster_Theory\\Duffy_Fitting_Code\\lineshapes.py:52: IntegrationWarning: The maximum number of subdivisions (100) has been achieved.\n",
      "  If increasing the limit yields no improvement it is advised to analyze \n",
      "  the integrand in order to determine the difficulties.  If the position of a \n",
      "  local difficulty can be determined (singularity, discontinuity) one will \n",
      "  probably gain from splitting up the interval and calling the integrator \n",
      "  on the subranges.  Perhaps a special-purpose integrator should be used.\n",
      "  g, gerr=quad(gImInt,0.0,np.inf,args=(t,pigment,vargs), limit = 100)\n",
      "C:\\Users\\Tiejun\\Documents\\GitHub\\Excitation_Relaxation_Forster_Theory\\Duffy_Fitting_Code\\lineshapes.py:45: IntegrationWarning: The maximum number of subdivisions (100) has been achieved.\n",
      "  If increasing the limit yields no improvement it is advised to analyze \n",
      "  the integrand in order to determine the difficulties.  If the position of a \n",
      "  local difficulty can be determined (singularity, discontinuity) one will \n",
      "  probably gain from splitting up the interval and calling the integrator \n",
      "  on the subranges.  Perhaps a special-purpose integrator should be used.\n",
      "  g1, g1err=quad(gReInt,0.0,1.0E-5,args=(t,T,pigment,vargs), limit = 100)\n",
      "C:\\Users\\Tiejun\\Documents\\GitHub\\Excitation_Relaxation_Forster_Theory\\Duffy_Fitting_Code\\lineshapes.py:52: IntegrationWarning: The occurrence of roundoff error is detected, which prevents \n",
      "  the requested tolerance from being achieved.  The error may be \n",
      "  underestimated.\n",
      "  g, gerr=quad(gImInt,0.0,np.inf,args=(t,pigment,vargs), limit = 100)\n"
     ]
    },
    {
     "name": "stdout",
     "output_type": "stream",
     "text": [
      "CAR2 spec generated\n",
      "RENGER spec generated\n"
     ]
    }
   ],
   "source": [
    "if __name__ == '__main__':\n",
    "    generate_CAR2MOD()\n",
    "    generate_RENGER()\n",
    "    "
   ]
  },
  {
   "cell_type": "code",
   "execution_count": null,
   "metadata": {},
   "outputs": [],
   "source": []
  },
  {
   "cell_type": "code",
   "execution_count": null,
   "metadata": {},
   "outputs": [],
   "source": []
  }
 ],
 "metadata": {
  "kernelspec": {
   "display_name": "Python 3",
   "language": "python",
   "name": "python3"
  },
  "language_info": {
   "codemirror_mode": {
    "name": "ipython",
    "version": 3
   },
   "file_extension": ".py",
   "mimetype": "text/x-python",
   "name": "python",
   "nbconvert_exporter": "python",
   "pygments_lexer": "ipython3",
   "version": "3.8.3"
  },
  "varInspector": {
   "cols": {
    "lenName": 16,
    "lenType": 16,
    "lenVar": 40
   },
   "kernels_config": {
    "python": {
     "delete_cmd_postfix": "",
     "delete_cmd_prefix": "del ",
     "library": "var_list.py",
     "varRefreshCmd": "print(var_dic_list())"
    },
    "r": {
     "delete_cmd_postfix": ") ",
     "delete_cmd_prefix": "rm(",
     "library": "var_list.r",
     "varRefreshCmd": "cat(var_dic_list()) "
    }
   },
   "types_to_exclude": [
    "module",
    "function",
    "builtin_function_or_method",
    "instance",
    "_Feature"
   ],
   "window_display": false
  }
 },
 "nbformat": 4,
 "nbformat_minor": 4
}
