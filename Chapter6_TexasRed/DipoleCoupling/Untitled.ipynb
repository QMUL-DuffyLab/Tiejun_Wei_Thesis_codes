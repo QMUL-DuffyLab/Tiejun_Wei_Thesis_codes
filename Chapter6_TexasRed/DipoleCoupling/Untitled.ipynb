{
 "cells": [
  {
   "cell_type": "code",
   "execution_count": 1,
   "metadata": {},
   "outputs": [],
   "source": [
    "tex1_dipole_dic = {\n",
    "\"chl601_dipole.dat\":[], \n",
    "\"chl601_Qx_dipole.dat\":[], \n",
    "\"chl608_dipole.dat\":[], \n",
    "\"chl608_Qx_dipole.dat\":[], \n",
    "\"cla610_dipole.dat\":[], \n",
    "\"cla610_Qx_dipole.dat\":[], \n",
    "\"cla611_dipole.dat\":[], \n",
    "\"cla611_Qx_dipole.dat\":[], \n",
    "\"cla612_dipole.dat\":[], \n",
    "\"cla612_Qx_dipole.dat\":[],\n",
    "}\n",
    "\n",
    "tex4_dipole_dic = tex1_dipole_dic"
   ]
  },
  {
   "cell_type": "code",
   "execution_count": 2,
   "metadata": {},
   "outputs": [
    {
     "data": {
      "text/plain": [
       "{'chl601_dipole.dat': [],\n",
       " 'chl601_Qx_dipole.dat': [],\n",
       " 'chl608_dipole.dat': [],\n",
       " 'chl608_Qx_dipole.dat': [],\n",
       " 'cla610_dipole.dat': [],\n",
       " 'cla610_Qx_dipole.dat': [],\n",
       " 'cla611_dipole.dat': [],\n",
       " 'cla611_Qx_dipole.dat': [],\n",
       " 'cla612_dipole.dat': [],\n",
       " 'cla612_Qx_dipole.dat': []}"
      ]
     },
     "execution_count": 2,
     "metadata": {},
     "output_type": "execute_result"
    }
   ],
   "source": [
    "tex4_dipole_dic"
   ]
  },
  {
   "cell_type": "code",
   "execution_count": null,
   "metadata": {},
   "outputs": [],
   "source": []
  }
 ],
 "metadata": {
  "kernelspec": {
   "display_name": "Python 3",
   "language": "python",
   "name": "python3"
  },
  "language_info": {
   "codemirror_mode": {
    "name": "ipython",
    "version": 3
   },
   "file_extension": ".py",
   "mimetype": "text/x-python",
   "name": "python",
   "nbconvert_exporter": "python",
   "pygments_lexer": "ipython3",
   "version": "3.7.6"
  },
  "varInspector": {
   "cols": {
    "lenName": 16,
    "lenType": 16,
    "lenVar": 40
   },
   "kernels_config": {
    "python": {
     "delete_cmd_postfix": "",
     "delete_cmd_prefix": "del ",
     "library": "var_list.py",
     "varRefreshCmd": "print(var_dic_list())"
    },
    "r": {
     "delete_cmd_postfix": ") ",
     "delete_cmd_prefix": "rm(",
     "library": "var_list.r",
     "varRefreshCmd": "cat(var_dic_list()) "
    }
   },
   "types_to_exclude": [
    "module",
    "function",
    "builtin_function_or_method",
    "instance",
    "_Feature"
   ],
   "window_display": false
  }
 },
 "nbformat": 4,
 "nbformat_minor": 4
}
