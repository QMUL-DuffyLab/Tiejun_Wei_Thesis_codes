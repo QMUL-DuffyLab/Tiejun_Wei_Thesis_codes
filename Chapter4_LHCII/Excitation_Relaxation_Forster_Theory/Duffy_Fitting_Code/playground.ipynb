{
 "cells": [
  {
   "cell_type": "code",
   "execution_count": 1,
   "metadata": {},
   "outputs": [],
   "source": [
    "#This file is written by TW. To test and visualize different functions.\n"
   ]
  },
  {
   "cell_type": "code",
   "execution_count": 2,
   "metadata": {},
   "outputs": [
    {
     "ename": "ModuleNotFoundError",
     "evalue": "No module named 'generate_spec'",
     "output_type": "error",
     "traceback": [
      "\u001b[1;31m---------------------------------------------------------------------------\u001b[0m",
      "\u001b[1;31mModuleNotFoundError\u001b[0m                       Traceback (most recent call last)",
      "\u001b[1;32m<ipython-input-2-9fd9cff34b79>\u001b[0m in \u001b[0;36m<module>\u001b[1;34m\u001b[0m\n\u001b[0;32m      2\u001b[0m \u001b[1;32mimport\u001b[0m \u001b[0mnumpy\u001b[0m \u001b[1;32mas\u001b[0m \u001b[0mnp\u001b[0m\u001b[1;33m\u001b[0m\u001b[1;33m\u001b[0m\u001b[0m\n\u001b[0;32m      3\u001b[0m \u001b[1;32mimport\u001b[0m \u001b[0mmatplotlib\u001b[0m\u001b[1;33m.\u001b[0m\u001b[0mpyplot\u001b[0m \u001b[1;32mas\u001b[0m \u001b[0mplt\u001b[0m\u001b[1;33m\u001b[0m\u001b[1;33m\u001b[0m\u001b[0m\n\u001b[1;32m----> 4\u001b[1;33m \u001b[1;32mimport\u001b[0m \u001b[0mgenerate_spec\u001b[0m\u001b[1;33m.\u001b[0m\u001b[0mipynb\u001b[0m \u001b[1;32mas\u001b[0m \u001b[0mgen\u001b[0m\u001b[1;33m\u001b[0m\u001b[1;33m\u001b[0m\u001b[0m\n\u001b[0m\u001b[0;32m      5\u001b[0m \u001b[1;33m\u001b[0m\u001b[0m\n\u001b[0;32m      6\u001b[0m \u001b[1;31m#import the spectum for Fuco in non-polar solvent\u001b[0m\u001b[1;33m\u001b[0m\u001b[1;33m\u001b[0m\u001b[1;33m\u001b[0m\u001b[0m\n",
      "\u001b[1;31mModuleNotFoundError\u001b[0m: No module named 'generate_spec'"
     ]
    }
   ],
   "source": [
    "import Spectrum_mol as Spec\n",
    "import numpy as np\n",
    "import matplotlib.pyplot as plt\n",
    "import generate_spec.ipynb as gen\n",
    "\n",
    "#import the spectum for Fuco in non-polar solvent\n",
    "w_exp=[]\n",
    "A_exp=[]\n",
    "#fin=open(\"Fuco_non_polar.txt\", 'r')"
   ]
  },
  {
   "cell_type": "code",
   "execution_count": 3,
   "metadata": {},
   "outputs": [],
   "source": [
    "#\n",
    "N=6.4\n",
    "w0=0.0\n",
    "T=300.0\n",
    "pigment='CAR_2MODE'\n",
    "vargs=(450.0, 53.0, 900.0, 106.0, 1536.0, 900.0, 106.0, 1150.0)\n",
    "osc=1.0\n",
    "dt=0.001\n",
    "timesteps=np.arange(0.0, 1.0, dt) #This is a total time range of 1 ps in steps of 1 fs. This is currently hard-coded and will need fixing\n",
    "Ft_response=[] #the response function (spectrum in the time domain)\n",
    "At_response=[]\n"
   ]
  },
  {
   "cell_type": "code",
   "execution_count": 4,
   "metadata": {},
   "outputs": [
    {
     "data": {
      "text/plain": [
       "'\\n#below is to re-calculate Ft/At function\\n\\nfor t in timesteps:\\n    Ft_response.append(Spec.Ft(t,w0,T,pigment,vargs))\\n    At_response.append(Spec.At(t,w0,T,pigment,vargs))\\n\\nnp.save(\"./Ft(0, 1.0, 1000).npy\", np.array(Ft_response))\\nnp.save(\"./At(0, 1.0, 1000).npy\", np.array(At_response))\\n'"
      ]
     },
     "execution_count": 4,
     "metadata": {},
     "output_type": "execute_result"
    }
   ],
   "source": [
    "\n",
    "\"\"\"\n",
    "#below is to re-calculate Ft/At function\n",
    "\n",
    "for t in timesteps:\n",
    "    Ft_response.append(Spec.Ft(t,w0,T,pigment,vargs))\n",
    "    At_response.append(Spec.At(t,w0,T,pigment,vargs))\n",
    "\n",
    "np.save(\"./Ft(0, 1.0, 1000).npy\", np.array(Ft_response))\n",
    "np.save(\"./At(0, 1.0, 1000).npy\", np.array(At_response))\n",
    "\"\"\""
   ]
  },
  {
   "cell_type": "code",
   "execution_count": 5,
   "metadata": {},
   "outputs": [],
   "source": [
    "Ft_response = np.load(\"./CAR2_Ft(0, 1.0, 0.001).npy\")\n",
    "At_response = np.load(\"./CAR2_At(0, 1.0, 0.001).npy\")"
   ]
  },
  {
   "cell_type": "code",
   "execution_count": 6,
   "metadata": {},
   "outputs": [
    {
     "data": {
      "text/plain": [
       "[<matplotlib.lines.Line2D at 0x19dfb9d0610>]"
      ]
     },
     "execution_count": 6,
     "metadata": {},
     "output_type": "execute_result"
    },
    {
     "data": {
      "image/png": "[encoded data removed]",
      "text/plain": [
       "<Figure size 432x288 with 1 Axes>"
      ]
     },
     "metadata": {
      "needs_background": "light"
     },
     "output_type": "display_data"
    }
   ],
   "source": [
    "timesteps=np.arange(0.0,1.0,dt)\n",
    "plt.plot(timesteps, At_response.real)\n",
    "#print(At_response)"
   ]
  },
  {
   "cell_type": "code",
   "execution_count": 7,
   "metadata": {},
   "outputs": [
    {
     "data": {
      "text/plain": [
       "[<matplotlib.lines.Line2D at 0x19dfba81610>]"
      ]
     },
     "execution_count": 7,
     "metadata": {},
     "output_type": "execute_result"
    },
    {
     "data": {
      "image/png": "[encoded data removed]",
      "text/plain": [
       "<Figure size 432x288 with 1 Axes>"
      ]
     },
     "metadata": {
      "needs_background": "light"
     },
     "output_type": "display_data"
    }
   ],
   "source": [
    "time, Fw_response = Spec.fft2w(Ft_response,dt)\n",
    "plt.plot(time, Fw_response)"
   ]
  },
  {
   "cell_type": "code",
   "execution_count": 8,
   "metadata": {},
   "outputs": [
    {
     "ename": "NameError",
     "evalue": "name 'Aw' is not defined",
     "output_type": "error",
     "traceback": [
      "\u001b[1;31m---------------------------------------------------------------------------\u001b[0m",
      "\u001b[1;31mNameError\u001b[0m                                 Traceback (most recent call last)",
      "\u001b[1;32m<ipython-input-8-e9bd707d3a84>\u001b[0m in \u001b[0;36m<module>\u001b[1;34m\u001b[0m\n\u001b[1;32m----> 1\u001b[1;33m \u001b[0mplt\u001b[0m\u001b[1;33m.\u001b[0m\u001b[0mplot\u001b[0m\u001b[1;33m(\u001b[0m\u001b[0mnp\u001b[0m\u001b[1;33m.\u001b[0m\u001b[0marange\u001b[0m\u001b[1;33m(\u001b[0m\u001b[1;36m0\u001b[0m\u001b[1;33m,\u001b[0m\u001b[1;36m1000\u001b[0m\u001b[1;33m)\u001b[0m\u001b[1;33m,\u001b[0m \u001b[0mAw\u001b[0m\u001b[1;33m.\u001b[0m\u001b[0mreal\u001b[0m\u001b[1;33m)\u001b[0m\u001b[1;33m\u001b[0m\u001b[1;33m\u001b[0m\u001b[0m\n\u001b[0m",
      "\u001b[1;31mNameError\u001b[0m: name 'Aw' is not defined"
     ]
    }
   ],
   "source": [
    "plt.plot(np.arange(0,1000), Aw.real)"
   ]
  },
  {
   "cell_type": "code",
   "execution_count": 9,
   "metadata": {},
   "outputs": [
    {
     "name": "stderr",
     "output_type": "stream",
     "text": [
      "C:\\ProgramData\\Anaconda3\\lib\\site-packages\\numpy\\core\\_asarray.py:85: ComplexWarning: Casting complex values to real discards the imaginary part\n",
      "  return array(a, dtype, copy=False, order=order)\n"
     ]
    },
    {
     "data": {
      "text/plain": [
       "[<matplotlib.lines.Line2D at 0x19dfbadbf40>]"
      ]
     },
     "execution_count": 9,
     "metadata": {},
     "output_type": "execute_result"
    },
    {
     "data": {
      "image/png": "[encoded data removed]",
      "text/plain": [
       "<Figure size 432x288 with 1 Axes>"
      ]
     },
     "metadata": {
      "needs_background": "light"
     },
     "output_type": "display_data"
    }
   ],
   "source": [
    "A_freq_test1 = np.fft.ifft(At_response,norm='ortho')\n",
    "A_freq_test1 *= dt\n",
    "w=np.fft.fftfreq(A_freq_test1.size)*((2*np.pi)/dt)\n",
    "plt.plot(w, A_freq_test1)"
   ]
  },
  {
   "cell_type": "code",
   "execution_count": 10,
   "metadata": {},
   "outputs": [],
   "source": [
    "Fw = Spec.fft2w(np.array(Ft_response), dt)\n",
    "Aw = Spec.fft2w(np.array(At_response), dt)\n"
   ]
  },
  {
   "cell_type": "code",
   "execution_count": 11,
   "metadata": {},
   "outputs": [
    {
     "data": {
      "text/plain": [
       "[<matplotlib.lines.Line2D at 0x19dfbb5b940>]"
      ]
     },
     "execution_count": 11,
     "metadata": {},
     "output_type": "execute_result"
    },
    {
     "data": {
      "image/png": "[encoded data removed]",
      "text/plain": [
       "<Figure size 432x288 with 1 Axes>"
      ]
     },
     "metadata": {
      "needs_background": "light"
     },
     "output_type": "display_data"
    }
   ],
   "source": [
    "plt.plot(Fw[0],Fw[1])"
   ]
  },
  {
   "cell_type": "code",
   "execution_count": 12,
   "metadata": {},
   "outputs": [
    {
     "data": {
      "text/plain": [
       "[<matplotlib.lines.Line2D at 0x19dfbbb45b0>]"
      ]
     },
     "execution_count": 12,
     "metadata": {},
     "output_type": "execute_result"
    },
    {
     "data": {
      "image/png": "[encoded data removed]",
      "text/plain": [
       "<Figure size 432x288 with 1 Axes>"
      ]
     },
     "metadata": {
      "needs_background": "light"
     },
     "output_type": "display_data"
    }
   ],
   "source": [
    "plt.plot(Aw[0],Aw[1])"
   ]
  },
  {
   "cell_type": "code",
   "execution_count": null,
   "metadata": {},
   "outputs": [],
   "source": [
    "np.save(\"./Ft(0,0.0001,1000).npy\", np.array(response))"
   ]
  },
  {
   "cell_type": "code",
   "execution_count": null,
   "metadata": {},
   "outputs": [],
   "source": [
    "response = np.load(\"./Ft(0,0.0001,1000).npy\")\n",
    "Fw = Spec.fft2w(np.array(response), 0.0001)\n",
    "plt.plot(Fw[0],Fw[1])"
   ]
  },
  {
   "cell_type": "code",
   "execution_count": null,
   "metadata": {},
   "outputs": [],
   "source": [
    "dt=0.00001\n",
    "timesteps=np.arange(0.0,0.01,dt) #This is a total time range of 1 ps in steps of 1 fs. This is currently hard-coded and will need fixing\n",
    "\n",
    "response=[] #the response function (spectrum in the time domain)\n",
    "for t in timesteps:\n",
    "    response.append(Spec.Ft(t,w0,T,pigment,vargs))\n",
    "    \n",
    "plt.plot(timesteps,response)"
   ]
  },
  {
   "cell_type": "code",
   "execution_count": null,
   "metadata": {},
   "outputs": [],
   "source": [
    "def plot_At():\n",
    "    dt=0.001\n",
    "    timesteps=np.arange(0.0,1.0,dt) #This is a total time range of 1 ps in steps of 1 fs. This is currently hard-coded and will need fixing\n",
    "\n",
    "    response=[] #the response function (spectrum in the time domain)\n",
    "    for t in timesteps:\n",
    "        response.append(At(t,w0,T,pigment,vargs))\n",
    "    \n",
    "    plt.plot(timesteps,response)\n",
    "    return\n",
    "\n",
    "def plot_Ft():\n",
    "    dt=0.001\n",
    "    timesteps=np.arange(0.0,1.0,dt) #This is a total time range of 1 ps in steps of 1 fs. This is currently hard-coded and will need fixing\n",
    "\n",
    "    response=[] #the response function (spectrum in the time domain)\n",
    "    for t in timesteps:\n",
    "        response.append(Ft(t,w0,T,pigment,vargs))\n",
    "    \n",
    "    plt.plot(timesteps,response)\n",
    "    return"
   ]
  },
  {
   "cell_type": "code",
   "execution_count": null,
   "metadata": {},
   "outputs": [],
   "source": [
    "\n",
    "spec=Spec.Aw(osc,w0,T,pigment,vargs)[1]\n",
    "waxis=Spec.Aw(osc,w0,T,pigment,vargs)[0]\n",
    "\n",
    "#Normalization of spectra\n",
    "N_exp=np.trapz(A_exp,x=w_exp)\n",
    "A_exp=A_exp/N_exp\n",
    "\n",
    "spec=N*spec\n",
    "\n",
    "plt.plot(waxis,spec)\n",
    "plt.plot(w_exp,A_exp)"
   ]
  },
  {
   "cell_type": "code",
   "execution_count": null,
   "metadata": {},
   "outputs": [],
   "source": [
    "\n",
    "plot_data = Spec.Aw(osc,w0,T,pigment,vargs)\n",
    "\n",
    "spec=plot_data[1]\n",
    "waxis=plot_data[0]\n",
    "\n",
    "#Normalization of spectra\n",
    "N_exp=np.trapz(A_exp,x=w_exp)\n",
    "A_exp=A_exp/N_exp\n",
    "\n",
    "spec=N*spec\n",
    "\n",
    "plt.plot(waxis,spec)\n",
    "plt.plot(w_exp,A_exp)"
   ]
  },
  {
   "cell_type": "code",
   "execution_count": null,
   "metadata": {},
   "outputs": [],
   "source": [
    "\n",
    "fout=open('A_spec_theor.txt','w')\n",
    "for i, item in enumerate(waxis):\n",
    "    fout.write(str(item)+'\\t'+str(spec[i])+'\\n')\n",
    "fout.close()\n",
    "\n",
    "fout=open('A_spec_exp.txt','w')\n",
    "for i, item in enumerate(w_exp):\n",
    "    fout.write(str(item)+'\\t'+str(A_exp[i])+'\\n')\n",
    "fout.close()\n",
    "\n",
    "#True normalization of the theoretical spectrum for use in further calculations\n",
    "N_theor=np.trapz(spec,x=waxis)\n",
    "Aw_norm=spec/N_theor\n",
    "\n",
    "fout=open('Aw_Fuco_norm.txt','w')\n",
    "for i, item in enumerate(waxis):\n",
    "    fout.write(str(item)+'\\t'+str(Aw_norm[i])+'\\n')\n",
    "fout.close()\n"
   ]
  },
  {
   "cell_type": "code",
   "execution_count": null,
   "metadata": {},
   "outputs": [],
   "source": [
    "At = np.loadtxt(\"A_spec_theor.txt\")\n",
    "At.shape\n"
   ]
  },
  {
   "cell_type": "code",
   "execution_count": null,
   "metadata": {},
   "outputs": [],
   "source": []
  },
  {
   "cell_type": "code",
   "execution_count": null,
   "metadata": {},
   "outputs": [],
   "source": []
  }
 ],
 "metadata": {
  "kernelspec": {
   "display_name": "Python 3",
   "language": "python",
   "name": "python3"
  },
  "language_info": {
   "codemirror_mode": {
    "name": "ipython",
    "version": 3
   },
   "file_extension": ".py",
   "mimetype": "text/x-python",
   "name": "python",
   "nbconvert_exporter": "python",
   "pygments_lexer": "ipython3",
   "version": "3.8.3"
  },
  "varInspector": {
   "cols": {
    "lenName": 16,
    "lenType": 16,
    "lenVar": 40
   },
   "kernels_config": {
    "python": {
     "delete_cmd_postfix": "",
     "delete_cmd_prefix": "del ",
     "library": "var_list.py",
     "varRefreshCmd": "print(var_dic_list())"
    },
    "r": {
     "delete_cmd_postfix": ") ",
     "delete_cmd_prefix": "rm(",
     "library": "var_list.r",
     "varRefreshCmd": "cat(var_dic_list()) "
    }
   },
   "types_to_exclude": [
    "module",
    "function",
    "builtin_function_or_method",
    "instance",
    "_Feature"
   ],
   "window_display": false
  }
 },
 "nbformat": 4,
 "nbformat_minor": 2
}
